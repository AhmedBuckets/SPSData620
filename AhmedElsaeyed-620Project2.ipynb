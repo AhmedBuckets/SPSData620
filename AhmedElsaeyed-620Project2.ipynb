{
 "cells": [
  {
   "cell_type": "markdown",
   "id": "43bd73b5",
   "metadata": {},
   "source": [
    "### Prompt:\n",
    " Identify a large 2-node network dataset—you can start with a dataset in a repository.  Your data should meet the criteria that it consists of ties between and not within two (or more) distinct groups.\n",
    "    Reduce the size of the network using a method such as the island method described in chapter 4 of social network analysis.\n",
    "    What can you infer about each of the distinct groups?\n",
    "\n",
    "You may work in a small group on the project.\n",
    "\n",
    "Your code and analysis should be delivered in an IPython Notebook by end of day Sunday. "
   ]
  },
  {
   "cell_type": "markdown",
   "id": "23580a85",
   "metadata": {},
   "source": [
    "### Data\n",
    "https://snap.stanford.edu/data/wiki-Elec.html"
   ]
  },
  {
   "cell_type": "markdown",
   "id": "36e7ccdf",
   "metadata": {},
   "source": [
    "### Libraries"
   ]
  },
  {
   "cell_type": "code",
   "execution_count": 2,
   "id": "86b52e73",
   "metadata": {},
   "outputs": [],
   "source": [
    "import pandas as pd\n",
    "import os\n",
    "import io\n",
    "import networkx as nx\n",
    "import re\n",
    "\n",
    "importedScipy = False\n",
    "try:    \n",
    "    import scipy\n",
    "    importedScipy = True\n",
    "except:\n",
    "    pass\n"
   ]
  },
  {
   "cell_type": "code",
   "execution_count": 3,
   "id": "c77a1385",
   "metadata": {},
   "outputs": [
    {
     "name": "stdout",
     "output_type": "stream",
     "text": [
      "Pandas Version 1.3.5\n",
      "Newtworkx Version 2.6.3\n",
      "scipy Version 1.7.3\n"
     ]
    }
   ],
   "source": [
    "print (\"Pandas Version {}\".format(pd.__version__))\n",
    "print (\"Newtworkx Version {}\".format(nx.__version__))\n",
    "if (importedScipy):\n",
    "    print (\"scipy Version {}\".format(scipy.__version__))\n",
    "else:\n",
    "    print(\"scipy wasn't imported.\")\n"
   ]
  },
  {
   "cell_type": "markdown",
   "id": "3a2d1a26",
   "metadata": {},
   "source": [
    "### Read in Data"
   ]
  },
  {
   "cell_type": "code",
   "execution_count": 4,
   "id": "03b107d3",
   "metadata": {},
   "outputs": [],
   "source": [
    "#The filename may have to be renamed with the .txt extention.  That has to be done manually.\n",
    "#This was only the case on one of my machines for some reason??\n",
    "filename = \"wikiElec.ElecBs3.txt\""
   ]
  },
  {
   "cell_type": "code",
   "execution_count": 5,
   "id": "1dec7ec3",
   "metadata": {},
   "outputs": [
    {
     "name": "stdout",
     "output_type": "stream",
     "text": [
      "# Wikipedia elections (http://cs.stanford.edu/people/jure/pubs/triads-chi10.pdf). Data format:\n",
      "#   E: is election successful (1) or not (0)\n",
      "#   T: time election was closed\n",
      "#   U: user id (and username) of editor that is being considered for promotion\n",
      "#   N: user id (and username) of the nominator\n",
      "#   V: <vote(1:support, 0:neutral, -1:oppose)> <user_id> <time> <username>\n",
      "E\t1\n",
      "T\t2004-09-21 01:15:53\n",
      "U\t30\tcjcurrie\n",
      "N\t32\tandyl\n",
      "V\t1\t3\t2004-09-14 16:26:00\tludraman\n",
      "V\t-1\t25\t2004-09-14 16:53:00\tblankfaze\n",
      "V\t1\t4\t2004-09-14 17:08:00\tgzornenplatz\n",
      "V\t1\t5\t2004-09-14 17:37:00\torthogonal\n",
      "V\t1\t6\t2004-09-14 19:28:00\tandrevan\n",
      "V\t1\t7\t2004-09-14 19:37:00\ttexture\n",
      "V\t1\t8\t2004-09-14 21:04:00\tlst27\n",
      "V\t1\t9\t2004-09-14 21:30:00\tmirv\n",
      "V\t1\t10\t2004-09-14 22:13:00\tanÃ¡rion\n",
      "V\t0\t26\t2004-09-14 22:18:00\tgrunt\n",
      "V\t0\t27\t2004-09-15 03:19:00\tslowking\n",
      "V\t0\t28\t2004-09-15 03:20:00\tneutrality\n",
      "V\t1\t11\t2004-09-15 04:28:00\tmerovingian\n",
      "V\t1\t12\t2004-09-15 06:56:00\twile\n",
      "V\t1\t13\t2004-09-15 09:19:00\tsjc\n",
      "V\t1\t14\t2004-09-15 12:20:00\t172\n",
      "V\t0\t29\t2004-09-16 00:58:00\tugen64\n",
      "V\t1\t15\t2004-09-16 14:50:00\tdanny\n",
      "V\t1\t16\t2004-09-16 15:31:00\tsimonp\n",
      "V\t1\t17\t2004-09-17 13:49:00\tjwrosenzweig\n",
      "V\t1\t18\t2004-09-17 20:57:00\tadam\n",
      "V\t1\t19\t2004-09-17 22:11:00\tffirehorse\n",
      "V\t1\t20\t2004-09-18 00:02:00\tmichael\n",
      "V\t1\t21\t2004-09-18 01:06:00\trhymeless\n",
      "V\t1\t22\t2004-09-20 05:36:00\tbearcat\n",
      "V\t1\t23\t2004-09-20 14:28:00\tcryptoderk\n",
      "V\t1\t24\t2004-09-20 22:20:00\tjayjg\n",
      "\n",
      "E\t1\n",
      "T\t2004-09-21 20:49:47\n",
      "U\t54\tzoney\n",
      "N\t28\tneutrality\n",
      "V\t1\t28\t2004-09-14 13:39:00\tneutrality\n",
      "V\t1\t33\t2004-09-14 13:41:00\tchmod007\n",
      "V\t1\t34\t2004-09-14 14:40:00\tnorm\n",
      "V\t1\t5\t2004-09-14 15:00:00\torthogonal\n",
      "V\t1\t20\t2004-09-14 15:43:00\tmichael\n",
      "V\t1\t36\t2004-09-14 16:02:00\tantandrus\n",
      "V\t1\t3\t2004-09-14 16:38:00\tludraman\n",
      "V\t1\t25\t2004-09-14 16:50:00\tblankfaze\n",
      "V\t1\t35\t2004-09-14 16:53:00\tfunc\n",
      "V\t1\t6\t2004-09-14 19:28:00\tandrevan\n",
      "V\t1\t37\t2004-09-14 19:29:00\tconti\n",
      "V\t1\t7\t2004-09-14 19:40:00\ttexture\n",
      "V\t1\t38\t2004-09-14 19:59:00\tarminius\n",
      "V\t1\t8\t2004-09-14 21\n"
     ]
    }
   ],
   "source": [
    "file = io.open(filename, mode=\"r\", encoding=\"latin-1\") #This encoding was missing before\n",
    "print(file.read(1900))\n",
    "#print(file.readlines()[:10])\n",
    "data = file.readlines()"
   ]
  },
  {
   "cell_type": "markdown",
   "id": "2d88216e",
   "metadata": {},
   "source": [
    "I don't know why, but the reading in of the file (using the <i>readlines()</i> method) starts at an abitrary spot and the first election is screwed up.  We'll just disregard it, I know from previous data exploration that are 2900+ other elections.  "
   ]
  },
  {
   "cell_type": "markdown",
   "id": "b381a323",
   "metadata": {},
   "source": [
    "### Discarding the first several screwed up rows"
   ]
  },
  {
   "cell_type": "code",
   "execution_count": 6,
   "id": "ca10de3c",
   "metadata": {},
   "outputs": [
    {
     "name": "stdout",
     "output_type": "stream",
     "text": [
      "28\n"
     ]
    }
   ],
   "source": [
    "for i in range(len(data)):\n",
    "    if data[i][0] ==\"E\": #first proper \"election in the data, as read in\"\n",
    "        print(i)\n",
    "        break"
   ]
  },
  {
   "cell_type": "code",
   "execution_count": 7,
   "id": "cdcb89cd",
   "metadata": {},
   "outputs": [
    {
     "data": {
      "text/plain": [
       "['V\\t1\\t29\\t2004-09-21 00:55:00\\tugen64\\n',\n",
       " '\\n',\n",
       " 'E\\t1\\n',\n",
       " 'T\\t2004-09-18 09:54:32\\n',\n",
       " 'U\\t61\\tgerald_farinas\\n',\n",
       " 'N\\t28\\tneutrality\\n',\n",
       " 'V\\t1\\t28\\t2004-09-12 02:46:00\\tneutrality\\n',\n",
       " 'V\\t1\\t55\\t2004-09-12 02:47:00\\tthecustomoflife\\n',\n",
       " 'V\\t0\\t26\\t2004-09-12 02:55:00\\tgrunt\\n']"
      ]
     },
     "execution_count": 7,
     "metadata": {},
     "output_type": "execute_result"
    }
   ],
   "source": [
    "data[26:35]\n"
   ]
  },
  {
   "cell_type": "code",
   "execution_count": 8,
   "id": "0aaf3903",
   "metadata": {},
   "outputs": [],
   "source": [
    "thisCellRan1 = False\n",
    "# Do no rerun this cell or you will \"erase\" data from memory and need to rerun the notebook"
   ]
  },
  {
   "cell_type": "code",
   "execution_count": 9,
   "id": "53f3979a",
   "metadata": {},
   "outputs": [],
   "source": [
    "if (thisCellRan1 == False):\n",
    "    data = data[28:]\n",
    "    thisCellRan1 = True  ##This first 25 cells have been discarded already\n",
    "    del thisCellRan1\n",
    "        \n",
    "#dicarding the first 25 rows\n",
    "#Only run this cell once!!!  That's the point of the thisCellRan1 variable."
   ]
  },
  {
   "cell_type": "code",
   "execution_count": 10,
   "id": "85380029",
   "metadata": {},
   "outputs": [
    {
     "data": {
      "text/plain": [
       "['E\\t1\\n',\n",
       " 'T\\t2004-09-18 09:54:32\\n',\n",
       " 'U\\t61\\tgerald_farinas\\n',\n",
       " 'N\\t28\\tneutrality\\n',\n",
       " 'V\\t1\\t28\\t2004-09-12 02:46:00\\tneutrality\\n']"
      ]
     },
     "execution_count": 10,
     "metadata": {},
     "output_type": "execute_result"
    }
   ],
   "source": [
    "data[0:5]\n",
    "#line 0 should start with \"E\", election. \n",
    "#If it doesn't, restart the kernel and rerun the notebook."
   ]
  },
  {
   "cell_type": "code",
   "execution_count": 11,
   "id": "220057ba",
   "metadata": {},
   "outputs": [
    {
     "name": "stdout",
     "output_type": "stream",
     "text": [
      "2792\n"
     ]
    }
   ],
   "source": [
    "ECount = 0\n",
    "for i in data:\n",
    "    if i[0] ==\"E\":\n",
    "        ECount +=1\n",
    "ECount\n",
    "\n",
    "expectedLength = ECount\n",
    "print(expectedLength)\n",
    "#there should be 2792 elections in the dataset, as read in (the first elction read in wrong)"
   ]
  },
  {
   "cell_type": "markdown",
   "id": "5c09586b",
   "metadata": {},
   "source": [
    "### Class Definitions"
   ]
  },
  {
   "cell_type": "markdown",
   "id": "ee78f1fb",
   "metadata": {},
   "source": [
    "to work with data"
   ]
  },
  {
   "cell_type": "code",
   "execution_count": 12,
   "id": "11430a62",
   "metadata": {},
   "outputs": [],
   "source": [
    "#from the docs\n",
    "#E: is election succesful (1) or not (0)\\\\r\\\\n#   \n",
    "#T: time election was closed\\\\r\\\\n#   \n",
    "#U: user id (and username) of editor that is being considered for promotion\\\\r\\\\n#   \n",
    "#N: user id (and username) of the nominator\\\\r\\\\n#\n",
    "#V: <vote(1:support, 0:neutral, -1:oppose)> <user_id> <time> <username>\n",
    "\n",
    "class Election():# A node type in the graph\n",
    "    def __init__(self, success, time, user, nominator, votes):\n",
    "        if((success!= 1) & (success!=0)):\n",
    "            print(\"invalid success entered: \",success)\n",
    "            self.success = \"unknown\"\n",
    "        else:\n",
    "            self.success = success\n",
    "        self.time = 0 #TODO possibly if we want more edge data\n",
    "        self.user = user\n",
    "        self.nominator = nominator\n",
    "        self.votes = votes"
   ]
  },
  {
   "cell_type": "code",
   "execution_count": 13,
   "id": "123ada5a",
   "metadata": {},
   "outputs": [],
   "source": [
    "#   V: <vote(1:support, 0:neutral, -1:oppose)> <user_id> <time> <username>\n",
    "class Vote: #Edges in the graph\n",
    "    def __init__(self, vote, user_id, time, user_name):\n",
    "        if ((vote <-1) | (vote >1)):\n",
    "            print(\"invalid vote:\", vote)\n",
    "            self.vote = \"invalid\"\n",
    "        else:\n",
    "            self.vote = vote\n",
    "        self.time = time #TODO if we want more attributes\n",
    "        self.user_id = user_id\n",
    "        self.user_name = user_name"
   ]
  },
  {
   "cell_type": "markdown",
   "id": "5b08e56b",
   "metadata": {},
   "source": [
    "## Misc Testing"
   ]
  },
  {
   "cell_type": "code",
   "execution_count": 14,
   "id": "38ac1d4b",
   "metadata": {},
   "outputs": [
    {
     "name": "stdout",
     "output_type": "stream",
     "text": [
      "V\t1\t28\t2004-09-12 02:46:00\tneutrality\n",
      "\n",
      "1\n",
      "<re.Match object; span=(1, 3), match='28'>\n"
     ]
    }
   ],
   "source": [
    "votes = []\n",
    "for line in data[3:5]:\n",
    "    if line[0]==\"V\":\n",
    "        print(line)\n",
    "        print(line[2]) #vote\n",
    "        print(re.search(\"\\d+\", line[3:]))\n",
    "    "
   ]
  },
  {
   "cell_type": "code",
   "execution_count": 15,
   "id": "3bdddef4",
   "metadata": {},
   "outputs": [],
   "source": [
    "elections =[]\n",
    "election =\"\"\n",
    "inAnElection = False\n",
    "for i in range(len(data)):\n",
    "    if ( (data[i][0] == \"E\") ): #&\\\n",
    "        #((i != len(data)-1) & (data[i+1][0]==\"T\") ) ) : #new election\n",
    "        elections.append(election)\n",
    "        election = data[i]\n",
    "    else:\n",
    "        election =  election + line"
   ]
  },
  {
   "cell_type": "code",
   "execution_count": 16,
   "id": "eff10acf",
   "metadata": {},
   "outputs": [
    {
     "data": {
      "text/plain": [
       "'E\\t1\\nV\\t1\\t28\\t2004-09-12 02:46:00\\tneutrality\\nV\\t1\\t28\\t2004-09-12 02:46:00\\tneutrality\\nV\\t1\\t28\\t2004-09-12 02:46:00\\tneutrality\\nV\\t1\\t28\\t2004-09-12 02:46:00\\tneutrality\\nV\\t1\\t28\\t2004-09-12 02:46:00\\tneutrality\\nV\\t1\\t28\\t2004-09-12 02:46:00\\tneutrality\\nV\\t1\\t28\\t2004-09-12 02:46:00\\tneutrality\\nV\\t1\\t28\\t2004-09-12 02:46:00\\tneutrality\\nV\\t1\\t28\\t2004-09-12 02:46:00\\tneutrality\\nV\\t1\\t28\\t2004-09-12 02:46:00\\tneutrality\\nV\\t1\\t28\\t2004-09-12 02:46:00\\tneutrality\\nV\\t1\\t28\\t2004-09-12 02:46:00\\tneutrality\\nV\\t1\\t28\\t2004-09-12 02:46:00\\tneutrality\\nV\\t1\\t28\\t2004-09-12 02:46:00\\tneutrality\\nV\\t1\\t28\\t2004-09-12 02:46:00\\tneutrality\\nV\\t1\\t28\\t2004-09-12 02:46:00\\tneutrality\\nV\\t1\\t28\\t2004-09-12 02:46:00\\tneutrality\\nV\\t1\\t28\\t2004-09-12 02:46:00\\tneutrality\\nV\\t1\\t28\\t2004-09-12 02:46:00\\tneutrality\\nV\\t1\\t28\\t2004-09-12 02:46:00\\tneutrality\\nV\\t1\\t28\\t2004-09-12 02:46:00\\tneutrality\\n'"
      ]
     },
     "execution_count": 16,
     "metadata": {},
     "output_type": "execute_result"
    }
   ],
   "source": [
    "elections[3]"
   ]
  },
  {
   "cell_type": "code",
   "execution_count": 17,
   "id": "5175b9c1",
   "metadata": {},
   "outputs": [
    {
     "name": "stdout",
     "output_type": "stream",
     "text": [
      "E\t1\n",
      "\n",
      "T\t2004-09-18 09:54:32\n",
      "\n",
      "U\t61\tgerald_farinas\n",
      "\n",
      "N\t28\tneutrality\n",
      "\n",
      "V\t1\t28\t2004-09-12 02:46:00\tneutrality\n",
      "\n",
      "V\t1\t55\t2004-09-12 02:47:00\tthecustomoflife\n",
      "\n"
     ]
    }
   ],
   "source": [
    "for i in range(len(data[:6])):\n",
    "    print (data[i])                               "
   ]
  },
  {
   "cell_type": "markdown",
   "id": "77e1ebbe",
   "metadata": {},
   "source": [
    "### Election Objects Creation"
   ]
  },
  {
   "cell_type": "code",
   "execution_count": 18,
   "id": "86d0b274",
   "metadata": {},
   "outputs": [],
   "source": [
    "electionsList =[]\n",
    "for i in range(len(data)):\n",
    "    #print (data[i])\n",
    "    if ((data[i][0] == \"E\") & (i<(len(data)-1)) ):\n",
    "        #def __initi__(self, success, time, user, nominator, votes):\n",
    "        try:\n",
    "            tempElection = Election(\\\n",
    "                               int(re.findall(\"\\d\",data[i])[0]),\n",
    "                               0, #time TODO\n",
    "                               re.findall(\"\\D+\\d*\",data[i+2])[1].strip(), #user\n",
    "                               re.findall(\"\\D+\\d*\",data[i+3])[1].strip(), #nominators can be \"UNKNOWN\"\n",
    "                               [\"Not yet added\"] #votes, seprate object added a few cells down\n",
    "                              )\n",
    "            newTempElection= True\n",
    "            \n",
    "        except:\n",
    "            #uncomment these lines for troubleshooting those 8 problem users\n",
    "            #print(\"Problemm with :\", data[i])\n",
    "            #print(data[i+1])\n",
    "            #print(data[i+2])\n",
    "            #print(data[i+3])\n",
    "            #print(\"----\")\n",
    "            continue\n",
    "        if (newTempElection==True):\n",
    "            electionsList.append(tempElection)\n",
    "    else:   \n",
    "        newTempElection = False"
   ]
  },
  {
   "cell_type": "code",
   "execution_count": 19,
   "id": "42c80713",
   "metadata": {},
   "outputs": [
    {
     "name": "stdout",
     "output_type": "stream",
     "text": [
      "pilotguy nomitnated by:\ttawker with election result\t1\n",
      "puckmv nomitnated by:\tUNKNOWN with election result\t0\n",
      "danielrocks123 nomitnated by:\tUNKNOWN with election result\t0\n",
      "sam_vimes nomitnated by:\taloan with election result\t1\n",
      "dljessup nomitnated by:\tUNKNOWN with election result\t0\n",
      "herostratus nomitnated by:\ttantalumtelluride with election result\t1\n",
      "sean_gorter nomitnated by:\tUNKNOWN with election result\t0\n",
      "mtz206 nomitnated by:\thughcharlesparker with election result\t1\n",
      "aaron_teh_tennisman nomitnated by:\tUNKNOWN with election result\t0\n",
      "jake0 nomitnated by:\tUNKNOWN with election result\t0\n",
      "ft2 nomitnated by:\tUNKNOWN with election result\t0\n",
      "agateller nomitnated by:\tUNKNOWN with election result\t0\n"
     ]
    }
   ],
   "source": [
    "for i in range(1233,1245):\n",
    "    print(electionsList[i].user +\" nomitnated by:\\t\" + electionsList[i].nominator +\" with election result\\t\"+ str(electionsList[i].success))"
   ]
  },
  {
   "cell_type": "code",
   "execution_count": 20,
   "id": "bf135789",
   "metadata": {},
   "outputs": [],
   "source": [
    "for i in range(len(electionsList)):\n",
    "    if (len(electionsList[i].user)<=0):\n",
    "        print(\"!!\")"
   ]
  },
  {
   "cell_type": "code",
   "execution_count": 21,
   "id": "1495158a",
   "metadata": {},
   "outputs": [
    {
     "name": "stdout",
     "output_type": "stream",
     "text": [
      "2792 True\n"
     ]
    }
   ],
   "source": [
    "print( len(electionsList), len(electionsList) == expectedLength)\n",
    "#Expected length.  Success!\n",
    "#The missing users have been fixed with better regexes and encoding"
   ]
  },
  {
   "cell_type": "markdown",
   "id": "1e4da198",
   "metadata": {},
   "source": [
    "<s>There's eight entries for users who have numbers as usernames or no username, just a user ID.\n",
    "This could be cleaned up but for now, it'll just be discarded.</s>"
   ]
  },
  {
   "cell_type": "code",
   "execution_count": 22,
   "id": "55d4438c",
   "metadata": {},
   "outputs": [
    {
     "name": "stdout",
     "output_type": "stream",
     "text": [
      "arminius nominated by:\tthecustomoflife\n",
      "lst27 nominated by:\tUNKNOWN\n",
      "chmod007 nominated by:\tUNKNOWN\n",
      "taoster nominated by:\tUNKNOWN\n",
      "anÃ¡rion nominated by:\tUNKNOWN\n",
      "jor nominated by:\tUNKNOWN\n",
      "proteus nominated by:\tlord_emsworth\n",
      "pumpie nominated by:\tUNKNOWN\n",
      "nichalp nominated by:\tkrs\n",
      "pedanticallyspeaking nominated by:\tUNKNOWN\n",
      "benc nominated by:\tneutrality\n",
      "edge nominated by:\tUNKNOWN\n"
     ]
    }
   ],
   "source": [
    "for i in electionsList[2:14]:\n",
    "    print(i.user +\" nominated by:\\t\" + i.nominator)\n",
    "#electionsList works as expected"
   ]
  },
  {
   "cell_type": "code",
   "execution_count": 23,
   "id": "cb4dbd2e",
   "metadata": {},
   "outputs": [],
   "source": [
    "for i in range(len(electionsList)):\n",
    "    if(electionsList[i].nominator ==\"\"):\n",
    "        print(\"agg\")"
   ]
  },
  {
   "cell_type": "markdown",
   "id": "7764e162",
   "metadata": {},
   "source": [
    "### Votes objects"
   ]
  },
  {
   "cell_type": "code",
   "execution_count": 24,
   "id": "55e580cf",
   "metadata": {},
   "outputs": [],
   "source": [
    "votesList= [] #this will be a lists of lists.  Each sub-list will be addes to the election object\n",
    "tempVotes=[]\n",
    "votingBool = False\n",
    "\n",
    "for i in data:\n",
    "    if i [0]!= \"V\":\n",
    "        if (len(tempVotes)>0):\n",
    "            votesList.append(tempVotes)\n",
    "        tempVotes=[]\n",
    "    else:\n",
    "        tempVotes.append(i)"
   ]
  },
  {
   "cell_type": "code",
   "execution_count": 25,
   "id": "1f9fb0c2",
   "metadata": {},
   "outputs": [
    {
     "data": {
      "text/plain": [
       "['V\\t-1\\t5800\\t2008-01-05 23:31:00\\tpedro\\n',\n",
       " 'V\\t-1\\t8045\\t2008-01-05 23:34:00\\tsarcasticidealist\\n',\n",
       " 'V\\t-1\\t7053\\t2008-01-05 23:36:00\\tavruch\\n',\n",
       " 'V\\t-1\\t6885\\t2008-01-06 00:44:00\\tkrator\\n',\n",
       " 'V\\t-1\\t8243\\t2008-01-06 01:07:00\\trazorflame\\n']"
      ]
     },
     "execution_count": 25,
     "metadata": {},
     "output_type": "execute_result"
    }
   ],
   "source": [
    "votesList[-1][:5]\n",
    "#the list of lists works as expected.  Next step is regex to clean it up"
   ]
  },
  {
   "cell_type": "code",
   "execution_count": 26,
   "id": "5e53ed35",
   "metadata": {},
   "outputs": [
    {
     "data": {
      "text/plain": [
       "'neutrality'"
      ]
     },
     "execution_count": 26,
     "metadata": {},
     "output_type": "execute_result"
    }
   ],
   "source": [
    "(re.findall(\"\\D+\",votesList[0][0]))[-1].strip()"
   ]
  },
  {
   "cell_type": "code",
   "execution_count": 27,
   "id": "5d37f323",
   "metadata": {},
   "outputs": [
    {
     "name": "stdout",
     "output_type": "stream",
     "text": [
      "2792 True\n"
     ]
    }
   ],
   "source": [
    "print(len(votesList), len(votesList) == expectedLength)\n",
    "#The length of this list is the same length as the number of elections"
   ]
  },
  {
   "cell_type": "code",
   "execution_count": 28,
   "id": "832b8f31",
   "metadata": {},
   "outputs": [],
   "source": [
    "#The cell generates the list of listObjects, this cell singlehandedly took me 90 minutes\n",
    "votesObjectList =[]\n",
    "tempList =[]\n",
    "\n",
    "for item1 in votesList:\n",
    "    if len(tempList)>0:\n",
    "        votesObjectList.append(tempList)\n",
    "        tempList=[]\n",
    "    for item2 in item1:\n",
    "        # def __init__(self, vote, user_id, time, user_name):\n",
    "        tempuserName = re.findall(\"\\D+\\d*\\D*\\d*\", item2)[-1].strip()\n",
    "        if ((tempuserName == \"\") | (tempuserName ==r\"\\n\")):\n",
    "            tempuserName = re.findall(\"\\D+\\d*\\D*\\d*\", item2)[-2].strip()\n",
    "        tempVote = Vote(\\\n",
    "                        int(re.findall(\"\\d+\",item2)[0]), #vote\n",
    "                        int(re.findall(\"\\d+\",item2)[1]), #user_id, possibly don't turn to int\n",
    "                        re.findall(\"\\d+\",item2)[2:], #time, in a list, TODO\n",
    "                        tempuserName #user_name[2:]\n",
    "                     )\n",
    "        #if((tempVote.user_name==\"\")  | (tempuserName ==r\"\\n\")):  #for troubleshooting\n",
    "        #    print(\"something wrong with this vote:\")\n",
    "        #    print(item2)\n",
    "        #    print(re.findall(\"\\D+\\d*\\D*\\d*\", item2))\n",
    "        #    print(\"_________\", tempVote.user_name, \"!\")\n",
    "        \n",
    "        tempList.append(tempVote)\n",
    "\n",
    "if len(tempList)>0:\n",
    "        votesObjectList.append(tempList)"
   ]
  },
  {
   "cell_type": "code",
   "execution_count": 29,
   "id": "996de703",
   "metadata": {},
   "outputs": [
    {
     "data": {
      "text/plain": [
       "2792"
      ]
     },
     "execution_count": 29,
     "metadata": {},
     "output_type": "execute_result"
    }
   ],
   "source": [
    "len(votesObjectList)\n",
    "#length as expected, success"
   ]
  },
  {
   "cell_type": "code",
   "execution_count": 30,
   "id": "666dd602",
   "metadata": {},
   "outputs": [],
   "source": [
    "for i in range(len(electionsList)):\n",
    "    electionsList[i].votes= votesObjectList[i]"
   ]
  },
  {
   "cell_type": "code",
   "execution_count": 31,
   "id": "359e3db0",
   "metadata": {},
   "outputs": [
    {
     "name": "stdout",
     "output_type": "stream",
     "text": [
      "Election for: gerald_farinas\n",
      " - - - - -\n",
      "neutrality voted 1, userID: 28\n",
      "thecustomoflife voted 1, userID: 55\n",
      "grunt voted 0, userID: 26\n",
      "rhymeless voted 1, userID: 21\n",
      "mirv voted 1, userID: 9\n",
      "orthogonal voted 1, userID: 5\n",
      "_________\n",
      "Election for: andrevan\n",
      " - - - - -\n",
      "node voted 1, userID: 62\n",
      "slowking voted 1, userID: 27\n",
      "merovingian voted 1, userID: 11\n",
      "norm voted 1, userID: 34\n",
      "anÃ¡rion voted 1, userID: 10\n",
      "thecustomoflife voted 1, userID: 55\n",
      "_________\n",
      "Election for: arminius\n",
      " - - - - -\n",
      "thecustomoflife voted 1, userID: 55\n",
      "neutrality voted 1, userID: 28\n",
      "antandrus voted 1, userID: 36\n",
      "chmod007 voted 1, userID: 33\n",
      "austin voted 0, userID: 51\n",
      "ffirehorse voted 1, userID: 19\n",
      "_________\n",
      "Election for: lst27\n",
      " - - - - -\n",
      "chmod007 voted 1, userID: 33\n",
      "anÃ¡rion voted 1, userID: 10\n",
      "everyking voted 1, userID: 72\n",
      "thecustomoflife voted 1, userID: 55\n",
      "andrevan voted 1, userID: 6\n",
      "gzornenplatz voted 1, userID: 4\n",
      "_________\n"
     ]
    }
   ],
   "source": [
    "for i in electionsList[:4]:\n",
    "    print(\"Election for:\", i.user)\n",
    "    print(\" - - - - -\")\n",
    "    for q in i.votes[:6]:\n",
    "        print (q.user_name +\\\n",
    "               \" voted \" + \\\n",
    "               str(q.vote) + \\\n",
    "                \", userID: \" \\\n",
    "                   + str(q.user_id)\\\n",
    "                  )\n",
    "    print(\"_________\")\n",
    "    # someone has a screwy user name, I have to fix this TODO\n",
    "    #note usernames can have numbers, need to fix regex"
   ]
  },
  {
   "cell_type": "markdown",
   "id": "0345b7ad",
   "metadata": {},
   "source": [
    "#### Note: The above cell is good enough, by my judgement.  It's possible there is a better RegEx for usernames, and It's also possible that times as node and edge attributed could be collected.  I'm skipping that for now"
   ]
  },
  {
   "cell_type": "markdown",
   "id": "c01235ea",
   "metadata": {},
   "source": [
    "### Pandas"
   ]
  },
  {
   "cell_type": "code",
   "execution_count": 32,
   "id": "0670f5a0",
   "metadata": {},
   "outputs": [
    {
     "name": "stdout",
     "output_type": "stream",
     "text": [
      "2792 True\n",
      "2792 True\n"
     ]
    }
   ],
   "source": [
    "print(len([i.user for i in electionsList]), len([i.user for i in electionsList]) == expectedLength)\n",
    "print(len([i.nominator for i in electionsList]), len([i.nominator for i in electionsList])== expectedLength)\n",
    "#Expected Lengths"
   ]
  },
  {
   "cell_type": "code",
   "execution_count": 33,
   "id": "6ea1bf74",
   "metadata": {},
   "outputs": [
    {
     "data": {
      "text/html": [
       "<div>\n",
       "<style scoped>\n",
       "    .dataframe tbody tr th:only-of-type {\n",
       "        vertical-align: middle;\n",
       "    }\n",
       "\n",
       "    .dataframe tbody tr th {\n",
       "        vertical-align: top;\n",
       "    }\n",
       "\n",
       "    .dataframe thead th {\n",
       "        text-align: right;\n",
       "    }\n",
       "</style>\n",
       "<table border=\"1\" class=\"dataframe\">\n",
       "  <thead>\n",
       "    <tr style=\"text-align: right;\">\n",
       "      <th></th>\n",
       "      <th>Election</th>\n",
       "      <th>Nominator</th>\n",
       "      <th>Voters</th>\n",
       "      <th>Votes</th>\n",
       "    </tr>\n",
       "  </thead>\n",
       "  <tbody>\n",
       "    <tr>\n",
       "      <th>0</th>\n",
       "      <td>gerald_farinas</td>\n",
       "      <td>neutrality</td>\n",
       "      <td>[neutrality, thecustomoflife, grunt, rhymeless...</td>\n",
       "      <td>[1, 1, 0, 1, 1, 1, 1, 1, 1, 1, 0, 1, 1, 1, 1, ...</td>\n",
       "    </tr>\n",
       "    <tr>\n",
       "      <th>1</th>\n",
       "      <td>andrevan</td>\n",
       "      <td>node_ue</td>\n",
       "      <td>[node, slowking, merovingian, norm, anÃ¡rion, ...</td>\n",
       "      <td>[1, 1, 1, 1, 1, 1, 1, 1, 1, 1, 1, 1, 1, 1, 1, ...</td>\n",
       "    </tr>\n",
       "    <tr>\n",
       "      <th>2</th>\n",
       "      <td>arminius</td>\n",
       "      <td>thecustomoflife</td>\n",
       "      <td>[thecustomoflife, neutrality, antandrus, chmod...</td>\n",
       "      <td>[1, 1, 1, 1, 0, 1, 1, 0, 1, 1, 1, 1, 0, 1, 1, ...</td>\n",
       "    </tr>\n",
       "    <tr>\n",
       "      <th>3</th>\n",
       "      <td>lst27</td>\n",
       "      <td>UNKNOWN</td>\n",
       "      <td>[chmod007, anÃ¡rion, everyking, thecustomoflif...</td>\n",
       "      <td>[1, 1, 1, 1, 1, 1, 1, 1, 1, 1, 1, 1, 1, 0, 1, ...</td>\n",
       "    </tr>\n",
       "    <tr>\n",
       "      <th>4</th>\n",
       "      <td>chmod007</td>\n",
       "      <td>UNKNOWN</td>\n",
       "      <td>[merovingian, fredrik, kate, jwrosenzweig, mir...</td>\n",
       "      <td>[1, 1, 1, 1, 1, 1, 1, 1, 1, 1, 1, 1, 1, 1, 1, ...</td>\n",
       "    </tr>\n",
       "    <tr>\n",
       "      <th>5</th>\n",
       "      <td>taoster</td>\n",
       "      <td>UNKNOWN</td>\n",
       "      <td>[andrevan, grunt, merovingian, slowking, cyp, ...</td>\n",
       "      <td>[1, 1, 1, 1, 1, 1, 1, 0, 1, 1, 1, 1, 1, 1, 1, ...</td>\n",
       "    </tr>\n",
       "    <tr>\n",
       "      <th>6</th>\n",
       "      <td>anÃ¡rion</td>\n",
       "      <td>UNKNOWN</td>\n",
       "      <td>[mirv, jor, gzornenplatz, neutrality, orthogon...</td>\n",
       "      <td>[1, 1, 1, 0, 1, 1, 0, 1, 1, 1, 1, 1, 1, 1, 1, ...</td>\n",
       "    </tr>\n",
       "    <tr>\n",
       "      <th>7</th>\n",
       "      <td>jor</td>\n",
       "      <td>UNKNOWN</td>\n",
       "      <td>[cecropia, radicalbender, chris, wik, danny, r...</td>\n",
       "      <td>[1, 1, 1, 1, 1, 1, 1, 1, 1, 1, 1, 1, 1, 1, 0, ...</td>\n",
       "    </tr>\n",
       "    <tr>\n",
       "      <th>8</th>\n",
       "      <td>proteus</td>\n",
       "      <td>lord_emsworth</td>\n",
       "      <td>[mirv, orthogonal, ffirehorse, ugen64, merovin...</td>\n",
       "      <td>[1, 1, 1, 1, 1, 1, 1, 1, 1, 1, 1, 1, 1, 1, 1, ...</td>\n",
       "    </tr>\n",
       "    <tr>\n",
       "      <th>9</th>\n",
       "      <td>pumpie</td>\n",
       "      <td>UNKNOWN</td>\n",
       "      <td>[mirv, rhobite, cryptoderk, stormie, schneeloc...</td>\n",
       "      <td>[1, 1, 1, 1, 1, 1, 1, 1, 1, 1, 1, 1, 1, 1, 1, ...</td>\n",
       "    </tr>\n",
       "  </tbody>\n",
       "</table>\n",
       "</div>"
      ],
      "text/plain": [
       "         Election        Nominator  \\\n",
       "0  gerald_farinas       neutrality   \n",
       "1        andrevan          node_ue   \n",
       "2        arminius  thecustomoflife   \n",
       "3           lst27          UNKNOWN   \n",
       "4        chmod007          UNKNOWN   \n",
       "5         taoster          UNKNOWN   \n",
       "6        anÃ¡rion          UNKNOWN   \n",
       "7             jor          UNKNOWN   \n",
       "8         proteus    lord_emsworth   \n",
       "9          pumpie          UNKNOWN   \n",
       "\n",
       "                                              Voters  \\\n",
       "0  [neutrality, thecustomoflife, grunt, rhymeless...   \n",
       "1  [node, slowking, merovingian, norm, anÃ¡rion, ...   \n",
       "2  [thecustomoflife, neutrality, antandrus, chmod...   \n",
       "3  [chmod007, anÃ¡rion, everyking, thecustomoflif...   \n",
       "4  [merovingian, fredrik, kate, jwrosenzweig, mir...   \n",
       "5  [andrevan, grunt, merovingian, slowking, cyp, ...   \n",
       "6  [mirv, jor, gzornenplatz, neutrality, orthogon...   \n",
       "7  [cecropia, radicalbender, chris, wik, danny, r...   \n",
       "8  [mirv, orthogonal, ffirehorse, ugen64, merovin...   \n",
       "9  [mirv, rhobite, cryptoderk, stormie, schneeloc...   \n",
       "\n",
       "                                               Votes  \n",
       "0  [1, 1, 0, 1, 1, 1, 1, 1, 1, 1, 0, 1, 1, 1, 1, ...  \n",
       "1  [1, 1, 1, 1, 1, 1, 1, 1, 1, 1, 1, 1, 1, 1, 1, ...  \n",
       "2  [1, 1, 1, 1, 0, 1, 1, 0, 1, 1, 1, 1, 0, 1, 1, ...  \n",
       "3  [1, 1, 1, 1, 1, 1, 1, 1, 1, 1, 1, 1, 1, 0, 1, ...  \n",
       "4  [1, 1, 1, 1, 1, 1, 1, 1, 1, 1, 1, 1, 1, 1, 1, ...  \n",
       "5  [1, 1, 1, 1, 1, 1, 1, 0, 1, 1, 1, 1, 1, 1, 1, ...  \n",
       "6  [1, 1, 1, 0, 1, 1, 0, 1, 1, 1, 1, 1, 1, 1, 1, ...  \n",
       "7  [1, 1, 1, 1, 1, 1, 1, 1, 1, 1, 1, 1, 1, 1, 0, ...  \n",
       "8  [1, 1, 1, 1, 1, 1, 1, 1, 1, 1, 1, 1, 1, 1, 1, ...  \n",
       "9  [1, 1, 1, 1, 1, 1, 1, 1, 1, 1, 1, 1, 1, 1, 1, ...  "
      ]
     },
     "execution_count": 33,
     "metadata": {},
     "output_type": "execute_result"
    }
   ],
   "source": [
    "df1 = pd.DataFrame({\\\n",
    "                   \"Election\" : [i.user for i in electionsList],\n",
    "                    \"Nominator\" : [i.nominator for i in electionsList],\n",
    "                    \"Voters\" : [[j.user_name for j in election.votes]  for election in electionsList],\n",
    "                    \"Votes\" : [[j.vote for j in election.votes]  for election in electionsList] \n",
    "                   }\n",
    "                  )\n",
    "df1.head(10)# other attributes could be added"
   ]
  },
  {
   "cell_type": "markdown",
   "id": "b161d0f1",
   "metadata": {},
   "source": [
    "## Next Part: NetworkX"
   ]
  },
  {
   "cell_type": "code",
   "execution_count": 34,
   "id": "94cfc3f8",
   "metadata": {},
   "outputs": [],
   "source": [
    "from networkx.algorithms import bipartite"
   ]
  },
  {
   "cell_type": "markdown",
   "id": "7b71a77e",
   "metadata": {},
   "source": [
    "https://networkx.org/documentation/stable/reference/algorithms/bipartite.html\n",
    "\n",
    "B = nx.Graph()\n",
    "\n",
    "#### Add nodes with the node attribute \"bipartite\"\n",
    "\n",
    "B.add_nodes_from([1, 2, 3, 4], bipartite=0)\n",
    "\n",
    "B.add_nodes_from([\"a\", \"b\", \"c\"], bipartite=1)\n",
    "\n",
    "#### Add edges only between nodes of opposite node sets\n",
    "\n",
    "B.add_edges_from([(1, \"a\"), (1, \"b\"), (2, \"b\"), (2, \"c\"), (3, \"c\"), (4, \"a\")])"
   ]
  },
  {
   "cell_type": "code",
   "execution_count": 35,
   "id": "996bb3b2",
   "metadata": {},
   "outputs": [],
   "source": [
    "B = nx.Graph()"
   ]
  },
  {
   "cell_type": "code",
   "execution_count": 36,
   "id": "eccaea92",
   "metadata": {},
   "outputs": [],
   "source": [
    "B.add_nodes_from([user.user for user in electionsList], bipartate=0) #users for elections\n",
    "#in other words, who's being voted on\n",
    "#TODO add nominator attribute"
   ]
  },
  {
   "cell_type": "code",
   "execution_count": 37,
   "id": "fc923add",
   "metadata": {},
   "outputs": [
    {
     "name": "stdout",
     "output_type": "stream",
     "text": [
      "2792 True\n"
     ]
    }
   ],
   "source": [
    "allVotersList = [[j.user_name for j in election.votes]  for election in electionsList]\n",
    "print(len(allVotersList), len(allVotersList)== expectedLength)\n",
    "#expected length success"
   ]
  },
  {
   "cell_type": "code",
   "execution_count": 38,
   "id": "79b9183d",
   "metadata": {},
   "outputs": [],
   "source": [
    "allVoters = []\n",
    "for elect in allVotersList:\n",
    "    for voter in elect:\n",
    "        allVoters.append(voter)"
   ]
  },
  {
   "cell_type": "code",
   "execution_count": 39,
   "id": "cb99b4fd",
   "metadata": {},
   "outputs": [
    {
     "name": "stdout",
     "output_type": "stream",
     "text": [
      "113973\n"
     ]
    }
   ],
   "source": [
    "print (len(allVoters))"
   ]
  },
  {
   "cell_type": "code",
   "execution_count": 40,
   "id": "192b1876",
   "metadata": {},
   "outputs": [
    {
     "name": "stdout",
     "output_type": "stream",
     "text": [
      "One average, a voter participates in 18.36 elections.\n"
     ]
    }
   ],
   "source": [
    "print(\"One average, a voter participates in {} elections.\"\\\n",
    "      .format(str(round( (len(allVoters)) / len(set (allVoters)) , 2) ) ) )"
   ]
  },
  {
   "cell_type": "code",
   "execution_count": 41,
   "id": "adca8ce9",
   "metadata": {},
   "outputs": [],
   "source": [
    "B.add_nodes_from(set(allVoters), bipartate=1) #All voters, second node type"
   ]
  },
  {
   "cell_type": "code",
   "execution_count": 42,
   "id": "cf68ad13",
   "metadata": {},
   "outputs": [],
   "source": [
    "#B.nodes()"
   ]
  },
  {
   "cell_type": "code",
   "execution_count": 43,
   "id": "c9e2339d",
   "metadata": {},
   "outputs": [],
   "source": [
    "edgeList = []\n",
    "for a in electionsList:\n",
    "    for b in a.votes:\n",
    "        edgeList.append((a.user, b.user_name))"
   ]
  },
  {
   "cell_type": "code",
   "execution_count": 44,
   "id": "c17fedc2",
   "metadata": {},
   "outputs": [],
   "source": [
    "B.add_edges_from(set(edgeList))"
   ]
  },
  {
   "cell_type": "code",
   "execution_count": 45,
   "id": "1d3cff33",
   "metadata": {},
   "outputs": [],
   "source": [
    "for z in B.nodes:\n",
    "    if (len(z)<=0):\n",
    "        print(\"!\" + z + \"!\")\n",
    "    if (z==\"\"):\n",
    "        print(\"brrrrr\")"
   ]
  },
  {
   "cell_type": "code",
   "execution_count": 46,
   "id": "3b460509",
   "metadata": {},
   "outputs": [],
   "source": [
    "for x in B.edges:\n",
    "    if (x[0]==\"\"):\n",
    "        print('aa', x[1])\n",
    "    if (x[1]==\"\"):\n",
    "        print('aa', x[0])"
   ]
  },
  {
   "cell_type": "markdown",
   "id": "fe19fecd",
   "metadata": {},
   "source": [
    "### Export for Gephi"
   ]
  },
  {
   "cell_type": "code",
   "execution_count": 47,
   "id": "d8951e8a",
   "metadata": {},
   "outputs": [],
   "source": [
    "with open(\"WikiElection.graphml\", \"wb\") as ofile:\n",
    "    nx.write_graphml(B, ofile)"
   ]
  },
  {
   "cell_type": "markdown",
   "id": "0cd41569",
   "metadata": {},
   "source": [
    "### Island Method"
   ]
  },
  {
   "cell_type": "code",
   "execution_count": 48,
   "id": "10846dc2",
   "metadata": {},
   "outputs": [
    {
     "name": "stdout",
     "output_type": "stream",
     "text": [
      "Island 1,: 7155\n",
      "Island 2,: 2\n",
      "Island 3,: 2\n",
      "Island 4,: 2\n",
      "Island 5,: 2\n",
      "Island 6,: 1\n",
      "Island 7,: 1\n",
      "Island 8,: 2\n",
      "Island 9,: 2\n",
      "Island 10,: 1\n",
      "Island 11,: 2\n",
      "Island 12,: 2\n",
      "Island 13,: 2\n",
      "Island 14,: 2\n",
      "Island 15,: 2\n",
      "Island 16,: 2\n",
      "Island 17,: 2\n",
      "Island 18,: 1\n",
      "Island 19,: 2\n",
      "Island 20,: 3\n",
      "Island 21,: 2\n",
      "Island 22,: 2\n",
      "Island 23,: 3\n",
      "Island 24,: 2\n",
      "Island 25,: 1\n",
      "Island 26,: 2\n",
      "Island 27,: 2\n",
      "Island 28,: 2\n",
      "Island 29,: 2\n",
      "Island 30,: 3\n",
      "Island 31,: 1\n"
     ]
    }
   ],
   "source": [
    "island1 = nx.connected_components(B)\n",
    "for i,c  in enumerate(island1):\n",
    "    print(f\"Island {i+1},: {len(c)}\")"
   ]
  },
  {
   "cell_type": "code",
   "execution_count": 49,
   "id": "52fc3fc0",
   "metadata": {},
   "outputs": [],
   "source": [
    "island1 = nx.connected_components(B)\n",
    "island_list = []\n",
    "for i,c  in enumerate(island1):\n",
    "    #print(f\"Island {i+1}: {c}\")\n",
    "    island_list.append((i,c))"
   ]
  },
  {
   "cell_type": "code",
   "execution_count": 50,
   "id": "31c0478d",
   "metadata": {},
   "outputs": [
    {
     "name": "stdout",
     "output_type": "stream",
     "text": [
      "[(1, {'andman8', 'claygate'}), (2, {'forkattack', 'papa'}), (3, {'va_girl2468', 'va'}), (4, {'plinoifax', 'tpirfansteve'})]\n"
     ]
    }
   ],
   "source": [
    "# not printing the first island because it is very large\n",
    "print(island_list[1:5])"
   ]
  },
  {
   "cell_type": "code",
   "execution_count": 51,
   "id": "09bd0049",
   "metadata": {},
   "outputs": [
    {
     "data": {
      "text/plain": [
       "<generator object strongly_connected_components at 0x7f7c21a03150>"
      ]
     },
     "execution_count": 51,
     "metadata": {},
     "output_type": "execute_result"
    }
   ],
   "source": [
    "nx.strongly_connected_components(B)"
   ]
  },
  {
   "cell_type": "code",
   "execution_count": 52,
   "id": "f5269bd3",
   "metadata": {},
   "outputs": [],
   "source": [
    "#Projected Graph\n",
    "#https://networkx.org/documentation/stable/reference/algorithms/generated/networkx.algorithms.bipartite.projection.projected_graph.html\n",
    "\n",
    "G = bipartite.projected_graph(B, [user.user for user in electionsList])"
   ]
  },
  {
   "cell_type": "code",
   "execution_count": 53,
   "id": "49e428e4",
   "metadata": {},
   "outputs": [],
   "source": [
    "# commented out to prevent data dump\n",
    "#G.nodes()"
   ]
  },
  {
   "cell_type": "code",
   "execution_count": 54,
   "id": "0c09e341",
   "metadata": {},
   "outputs": [
    {
     "name": "stdout",
     "output_type": "stream",
     "text": [
      "\n",
      "#, election\n"
     ]
    }
   ],
   "source": [
    "#Degree\n",
    "W = bipartite.projected_graph(B, [user.user for user in electionsList])\n",
    "W_degrees = {}\n",
    "for w in [user.user for user in electionsList]:\n",
    "    W_degrees[w] = W.degree(w)"
   ]
  },
  {
   "cell_type": "code",
   "execution_count": 59,
   "id": "01bbe29c",
   "metadata": {},
   "outputs": [
    {
     "name": "stdout",
     "output_type": "stream",
     "text": [
      "[(5871, 'siva1979'), (5553, 'xoloz'), (5532, 'jaranda'), (5262, 'neil'), (5018, 'mongo'), (4709, 'blnguyen'), (4531, 'acalamari'), (4513, 'daniel'), (4497, 'radiant!'), (4484, '(aeropagitica)')]\n"
     ]
    }
   ],
   "source": [
    "# printing out top 10 \n",
    "sorted_list = []\n",
    "for w in sorted(W_degrees, key=W_degrees.get, reverse=True):\n",
    "    sorted_list.append((W_degrees[w], w))\n",
    "    \n",
    "print(sorted_list[:10])"
   ]
  },
  {
   "cell_type": "code",
   "execution_count": 56,
   "id": "51f3d9bb",
   "metadata": {},
   "outputs": [
    {
     "name": "stdout",
     "output_type": "stream",
     "text": [
      "\n",
      "#, election\n"
     ]
    }
   ],
   "source": [
    "W = bipartite.weighted_projected_graph(B, [user.user for user in electionsList])\n",
    "W_weights = {}\n",
    "for w in [user.user for user in electionsList]:\n",
    "    W_weights[w] = W.degree(w, weight='weight')"
   ]
  },
  {
   "cell_type": "code",
   "execution_count": 57,
   "id": "ef9bc07a",
   "metadata": {},
   "outputs": [
    {
     "name": "stdout",
     "output_type": "stream",
     "text": [
      "[(114183, 'siva1979'), (96866, 'jaranda'), (85884, 'xoloz'), (67398, 'neil'), (64455, 'crzrussian'), (63877, 'mongo'), (60469, 'newyorkbrad'), (58807, 'acalamari'), (58568, 'blnguyen'), (57289, 'daniel')]\n"
     ]
    }
   ],
   "source": [
    "# printing out top 10 \n",
    "sorted_list_weights = []\n",
    "for w in sorted(W_weights, key=W_weights.get, reverse=True):\n",
    "    sorted_list_weights.append((W_weights[w], w))\n",
    "    \n",
    "print(sorted_list_weights[:10])"
   ]
  },
  {
   "cell_type": "code",
   "execution_count": 58,
   "id": "6f808fe6",
   "metadata": {},
   "outputs": [],
   "source": [
    "# commented out because graph takes a long time to generate\n",
    "\n",
    "# weights=[edata['weight'] for f,t,edata in W.edges(data=True)]\n",
    "\n",
    "# nx.draw_circular(W,width=weights, edge_color=\"gray\", node_color=\"lightblue\", with_labels=True, node_size=2000, font_size=12, font_family=\"DejaVu Sans\",\n",
    "#                 alpha=0.8)"
   ]
  },
  {
   "cell_type": "code",
   "execution_count": null,
   "id": "f54cceca",
   "metadata": {},
   "outputs": [],
   "source": []
  }
 ],
 "metadata": {
  "kernelspec": {
   "display_name": "Python 3 (ipykernel)",
   "language": "python",
   "name": "python3"
  },
  "language_info": {
   "codemirror_mode": {
    "name": "ipython",
    "version": 3
   },
   "file_extension": ".py",
   "mimetype": "text/x-python",
   "name": "python",
   "nbconvert_exporter": "python",
   "pygments_lexer": "ipython3",
   "version": "3.7.13"
  }
 },
 "nbformat": 4,
 "nbformat_minor": 5
}
